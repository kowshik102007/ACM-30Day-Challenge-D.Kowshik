{
 "cells": [
  {
   "cell_type": "code",
   "execution_count": null,
   "id": "fcbfdc12-00ae-40c5-b313-8194971241c2",
   "metadata": {},
   "outputs": [],
   "source": [
    "import pandas as pd\n",
    "import matplotlib.pyplot as plt\n",
    "import seaborn as sns\n",
    "from sklearn.model_selection import train_test_split\n",
    "from sklearn.preprocessing import StandardScaler, LabelEncoder\n",
    "from sklearn.tree import DecisionTreeClassifier\n",
    "from sklearn.ensemble import RandomForestClassifier\n",
    "from sklearn.metrics import accuracy_score, confusion_matrix"
   ]
  },
  {
   "cell_type": "markdown",
   "id": "50d8c36c-5b77-4752-9f8f-eec00c9804f1",
   "metadata": {},
   "source": [
    "# Loading the csv file"
   ]
  },
  {
   "cell_type": "code",
   "execution_count": null,
   "id": "e5a7d2d0-528a-4403-92c5-944791fcc25e",
   "metadata": {},
   "outputs": [],
   "source": [
    "file = ('mental_health_workplace_survey.csv')\n",
    "df = pd.read_csv(file)"
   ]
  },
  {
   "cell_type": "markdown",
   "id": "f03f57f5-f322-4a51-8558-0ce99e3c301c",
   "metadata": {},
   "source": [
    "# Encoding categorical features"
   ]
  },
  {
   "cell_type": "code",
   "execution_count": null,
   "id": "a867c0a6-b45b-44e1-8a4e-0a19a0d694a9",
   "metadata": {},
   "outputs": [],
   "source": [
    "categorical_cols = df.select_dtypes(include='object').columns.tolist()\n",
    "numerical_cols = df.select_dtypes(exclude='object').columns.tolist()\n",
    "\n",
    "le = LabelEncoder()\n",
    "for col in categorical_cols:\n",
    "    df[col] = le.fit_transform(df[col].astype(str))"
   ]
  },
  {
   "cell_type": "markdown",
   "id": "db72e197-5a3e-49c4-9509-8ec90f689126",
   "metadata": {},
   "source": [
    "# Correlation Matrix"
   ]
  },
  {
   "cell_type": "code",
   "execution_count": null,
   "id": "668fc24f-3d18-44e6-aee0-e87625cd9fc2",
   "metadata": {},
   "outputs": [],
   "source": [
    "plt.figure(figsize=(16, 16))\n",
    "corr = df.corr()\n",
    "sns.heatmap(corr, annot=True, cmap='coolwarm', fmt=\".2f\")\n",
    "plt.title(\"Correlation Heatmap\")\n",
    "plt.show()"
   ]
  },
  {
   "cell_type": "markdown",
   "id": "39a1b92e-f271-440d-a5c4-189fbc5a9845",
   "metadata": {},
   "source": [
    "# Train-test split"
   ]
  },
  {
   "cell_type": "code",
   "execution_count": null,
   "id": "3fbab46c-227c-4867-84dc-b1fc9c149478",
   "metadata": {},
   "outputs": [],
   "source": [
    "df['BurnoutRisk'] = df['BurnoutRisk'].astype(int)\n",
    "X = df.drop(\"BurnoutRisk\", axis=1)\n",
    "y = df[\"BurnoutRisk\"]\n",
    "X_train, X_test, y_train, y_test = train_test_split( X, y, test_size=0.3, random_state=5)"
   ]
  },
  {
   "cell_type": "markdown",
   "id": "63b60c5b-88ee-4934-8f5e-61b057f3459c",
   "metadata": {},
   "source": [
    "# Standardization"
   ]
  },
  {
   "cell_type": "code",
   "execution_count": null,
   "id": "949c12f0-2773-4150-b3e8-19360467dc32",
   "metadata": {},
   "outputs": [],
   "source": [
    "scaler = StandardScaler()\n",
    "X_train = scaler.fit_transform(X_train)\n",
    "X_test = scaler.transform(X_test)"
   ]
  },
  {
   "cell_type": "markdown",
   "id": "53ee7adb-2d37-4ca3-8ed2-92d7362837bb",
   "metadata": {},
   "source": [
    "# Feature Selection using Random Foresets importances"
   ]
  },
  {
   "cell_type": "code",
   "execution_count": null,
   "id": "fc89bb57-232c-4fc4-b8f2-6eb6bfad8b1d",
   "metadata": {},
   "outputs": [],
   "source": [
    "classifier = RandomForestClassifier()\n",
    "classifier.fit(X_train, y_train)\n",
    "feature_importances = classifier.feature_importances_\n",
    "\n",
    "plt.barh(X.columns, feature_importances)\n",
    "plt.xlabel('Feature Importance')\n",
    "plt.title('Feature Importance in Random Forest Classifier')\n",
    "plt.show()"
   ]
  },
  {
   "cell_type": "code",
   "execution_count": null,
   "id": "5e96c8d0-0000-49de-9792-895f0895cd9d",
   "metadata": {},
   "outputs": [],
   "source": [
    "X_top3 = X[['BurnoutLevel','StressLevel','WorkLifeBalanceScore']]\n",
    "X_train_top3, X_test_top3, y_train_top3, y_test_top3 = train_test_split( X, y, test_size=0.3, random_state=5)"
   ]
  },
  {
   "cell_type": "markdown",
   "id": "feeab827-dae0-456b-b82d-7178b123d6d2",
   "metadata": {},
   "source": [
    "# Feature Selection\n",
    "** Based on the feature importance scores and the correlation matrix  the selection of ['BurnoutLevel', 'StressLevel', 'CommuteTime'] as the top three features for the Burnout Breakdown dataset can be justified as follows:**\n",
    "- **BurnoutLevel :** This feature has the highest importance score, indicating it is the most significant predictor of burnout, likely due to its direct representation of the target variable or a strong self-correlation, making it a critical component for the model.\n",
    "- **StressLevel :** With a moderate importance score and a potential correlation with BurnoutLevel, it captures a key psychological factor influencing burnout, supported by its inclusion in the correlation matrix analysis.\n",
    "- **WorkLifeBalanceScore :** This feature’s inclusion is justified by its relevance to burnout, as WorkLifeBalanceScore is a well-known contributor to employee burnout in workplace studies. Its importance score is also third highest, supported by its inclusion in the correlation matrix analysis."
   ]
  },
  {
   "cell_type": "markdown",
   "id": "faab62fe-8053-4dec-ab41-76e51be58b88",
   "metadata": {},
   "source": [
    "# Model Training"
   ]
  },
  {
   "cell_type": "code",
   "execution_count": 10,
   "id": "771e8f01-ac4c-414b-9c3a-2d6ce580dbb7",
   "metadata": {},
   "outputs": [
    {
     "name": "stdout",
     "output_type": "stream",
     "text": [
      "DecisionTreeClassifier() Accuracy: 1.0\n"
     ]
    },
    {
     "data": {
      "image/png": "[encoded data removed]",
      "text/plain": [
       "<Figure size 600x400 with 2 Axes>"
      ]
     },
     "metadata": {},
     "output_type": "display_data"
    }
   ],
   "source": [
    "dt= DecisionTreeClassifier()\n",
    "dt.fit(X_train_top3, y_train_top3)\n",
    "y_pred = dt.predict(X_test_top3)\n",
    "print(f\"{dt} Accuracy:\", accuracy_score(y_test, y_pred))\n",
    "conf_matrix = confusion_matrix(y_test, y_pred)\n",
    "plt.figure(figsize=(6,4))\n",
    "sns.heatmap(conf_matrix, annot=True, fmt='d', cmap='Blues')\n",
    "plt.title(\" Confusion Matrix\")\n",
    "plt.xlabel(\"Predicted Labels\")\n",
    "plt.ylabel(\"Actual Labels\")\n",
    "plt.show()"
   ]
  },
  {
   "cell_type": "code",
   "execution_count": null,
   "id": "280630ec-dbb5-41f9-9fd0-981aca532599",
   "metadata": {},
   "outputs": [],
   "source": []
  }
 ],
 "metadata": {
  "kernelspec": {
   "display_name": "Python 3 (ipykernel)",
   "language": "python",
   "name": "python3"
  },
  "language_info": {
   "codemirror_mode": {
    "name": "ipython",
    "version": 3
   },
   "file_extension": ".py",
   "mimetype": "text/x-python",
   "name": "python",
   "nbconvert_exporter": "python",
   "pygments_lexer": "ipython3",
   "version": "3.13.1"
  }
 },
 "nbformat": 4,
 "nbformat_minor": 5
}
