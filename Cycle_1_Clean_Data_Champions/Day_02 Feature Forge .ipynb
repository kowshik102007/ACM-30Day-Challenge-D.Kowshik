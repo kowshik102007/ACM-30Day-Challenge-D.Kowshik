{
 "cells": [
  {
   "cell_type": "code",
   "execution_count": 1,
   "id": "370093ab-8e59-4776-b6d1-0f3ee62835ba",
   "metadata": {},
   "outputs": [],
   "source": [
    "import pandas as pd\n",
    "import numpy as np\n",
    "import matplotlib.pyplot as plt\n",
    "import seaborn as sns\n",
    "from sklearn.model_selection import train_test_split\n",
    "from sklearn.preprocessing import LabelEncoder, StandardScaler\n",
    "from sklearn.feature_selection import mutual_info_regression\n",
    "from sklearn.linear_model import LinearRegression, Ridge, Lasso\n",
    "from sklearn.metrics import mean_squared_error, r2_score"
   ]
  },
  {
   "cell_type": "markdown",
   "id": "37a35226-85a7-478a-bcff-a73b2cca14c0",
   "metadata": {},
   "source": [
    "# Loading the csv file"
   ]
  },
  {
   "cell_type": "code",
   "execution_count": 2,
   "id": "09bbeaa3-659b-4a5f-b3b7-a09062e50547",
   "metadata": {},
   "outputs": [
    {
     "data": {
      "text/html": [
       "<div>\n",
       "<style scoped>\n",
       "    .dataframe tbody tr th:only-of-type {\n",
       "        vertical-align: middle;\n",
       "    }\n",
       "\n",
       "    .dataframe tbody tr th {\n",
       "        vertical-align: top;\n",
       "    }\n",
       "\n",
       "    .dataframe thead th {\n",
       "        text-align: right;\n",
       "    }\n",
       "</style>\n",
       "<table border=\"1\" class=\"dataframe\">\n",
       "  <thead>\n",
       "    <tr style=\"text-align: right;\">\n",
       "      <th></th>\n",
       "      <th>EmployeeID</th>\n",
       "      <th>Age</th>\n",
       "      <th>Gender</th>\n",
       "      <th>Country</th>\n",
       "      <th>JobRole</th>\n",
       "      <th>Department</th>\n",
       "      <th>YearsAtCompany</th>\n",
       "      <th>WorkHoursPerWeek</th>\n",
       "      <th>RemoteWork</th>\n",
       "      <th>BurnoutLevel</th>\n",
       "      <th>...</th>\n",
       "      <th>CommuteTime</th>\n",
       "      <th>HasMentalHealthSupport</th>\n",
       "      <th>ManagerSupportScore</th>\n",
       "      <th>HasTherapyAccess</th>\n",
       "      <th>MentalHealthDaysOff</th>\n",
       "      <th>SalaryRange</th>\n",
       "      <th>WorkLifeBalanceScore</th>\n",
       "      <th>TeamSize</th>\n",
       "      <th>CareerGrowthScore</th>\n",
       "      <th>BurnoutRisk</th>\n",
       "    </tr>\n",
       "  </thead>\n",
       "  <tbody>\n",
       "    <tr>\n",
       "      <th>0</th>\n",
       "      <td>1001</td>\n",
       "      <td>50</td>\n",
       "      <td>Male</td>\n",
       "      <td>UK</td>\n",
       "      <td>Sales Associate</td>\n",
       "      <td>HR</td>\n",
       "      <td>14</td>\n",
       "      <td>47</td>\n",
       "      <td>No</td>\n",
       "      <td>3.37</td>\n",
       "      <td>...</td>\n",
       "      <td>117</td>\n",
       "      <td>No</td>\n",
       "      <td>3.15</td>\n",
       "      <td>Yes</td>\n",
       "      <td>8</td>\n",
       "      <td>40K-60K</td>\n",
       "      <td>8.82</td>\n",
       "      <td>6</td>\n",
       "      <td>9.20</td>\n",
       "      <td>0</td>\n",
       "    </tr>\n",
       "    <tr>\n",
       "      <th>1</th>\n",
       "      <td>1002</td>\n",
       "      <td>36</td>\n",
       "      <td>Male</td>\n",
       "      <td>Germany</td>\n",
       "      <td>Software Engineer</td>\n",
       "      <td>IT</td>\n",
       "      <td>1</td>\n",
       "      <td>59</td>\n",
       "      <td>Hybrid</td>\n",
       "      <td>7.39</td>\n",
       "      <td>...</td>\n",
       "      <td>8</td>\n",
       "      <td>Yes</td>\n",
       "      <td>4.40</td>\n",
       "      <td>Yes</td>\n",
       "      <td>4</td>\n",
       "      <td>80K-100K</td>\n",
       "      <td>2.80</td>\n",
       "      <td>45</td>\n",
       "      <td>8.46</td>\n",
       "      <td>1</td>\n",
       "    </tr>\n",
       "    <tr>\n",
       "      <th>2</th>\n",
       "      <td>1003</td>\n",
       "      <td>29</td>\n",
       "      <td>Non-binary</td>\n",
       "      <td>India</td>\n",
       "      <td>IT Admin</td>\n",
       "      <td>IT</td>\n",
       "      <td>13</td>\n",
       "      <td>59</td>\n",
       "      <td>Hybrid</td>\n",
       "      <td>7.10</td>\n",
       "      <td>...</td>\n",
       "      <td>75</td>\n",
       "      <td>No</td>\n",
       "      <td>3.63</td>\n",
       "      <td>No</td>\n",
       "      <td>6</td>\n",
       "      <td>80K-100K</td>\n",
       "      <td>7.28</td>\n",
       "      <td>7</td>\n",
       "      <td>7.96</td>\n",
       "      <td>1</td>\n",
       "    </tr>\n",
       "    <tr>\n",
       "      <th>3</th>\n",
       "      <td>1004</td>\n",
       "      <td>42</td>\n",
       "      <td>Male</td>\n",
       "      <td>Australia</td>\n",
       "      <td>HR Specialist</td>\n",
       "      <td>IT</td>\n",
       "      <td>15</td>\n",
       "      <td>31</td>\n",
       "      <td>Yes</td>\n",
       "      <td>4.18</td>\n",
       "      <td>...</td>\n",
       "      <td>43</td>\n",
       "      <td>Yes</td>\n",
       "      <td>4.50</td>\n",
       "      <td>Yes</td>\n",
       "      <td>9</td>\n",
       "      <td>60K-80K</td>\n",
       "      <td>1.31</td>\n",
       "      <td>11</td>\n",
       "      <td>8.90</td>\n",
       "      <td>0</td>\n",
       "    </tr>\n",
       "    <tr>\n",
       "      <th>4</th>\n",
       "      <td>1005</td>\n",
       "      <td>40</td>\n",
       "      <td>Male</td>\n",
       "      <td>Brazil</td>\n",
       "      <td>Customer Support</td>\n",
       "      <td>Support</td>\n",
       "      <td>6</td>\n",
       "      <td>34</td>\n",
       "      <td>Yes</td>\n",
       "      <td>8.28</td>\n",
       "      <td>...</td>\n",
       "      <td>58</td>\n",
       "      <td>Yes</td>\n",
       "      <td>5.51</td>\n",
       "      <td>Yes</td>\n",
       "      <td>6</td>\n",
       "      <td>&lt;40K</td>\n",
       "      <td>1.17</td>\n",
       "      <td>18</td>\n",
       "      <td>8.88</td>\n",
       "      <td>1</td>\n",
       "    </tr>\n",
       "  </tbody>\n",
       "</table>\n",
       "<p>5 rows × 25 columns</p>\n",
       "</div>"
      ],
      "text/plain": [
       "   EmployeeID  Age      Gender    Country            JobRole Department  \\\n",
       "0        1001   50        Male         UK    Sales Associate         HR   \n",
       "1        1002   36        Male    Germany  Software Engineer         IT   \n",
       "2        1003   29  Non-binary      India           IT Admin         IT   \n",
       "3        1004   42        Male  Australia      HR Specialist         IT   \n",
       "4        1005   40        Male     Brazil   Customer Support    Support   \n",
       "\n",
       "   YearsAtCompany  WorkHoursPerWeek RemoteWork  BurnoutLevel  ...  \\\n",
       "0              14                47         No          3.37  ...   \n",
       "1               1                59     Hybrid          7.39  ...   \n",
       "2              13                59     Hybrid          7.10  ...   \n",
       "3              15                31        Yes          4.18  ...   \n",
       "4               6                34        Yes          8.28  ...   \n",
       "\n",
       "   CommuteTime  HasMentalHealthSupport  ManagerSupportScore  HasTherapyAccess  \\\n",
       "0          117                      No                 3.15               Yes   \n",
       "1            8                     Yes                 4.40               Yes   \n",
       "2           75                      No                 3.63                No   \n",
       "3           43                     Yes                 4.50               Yes   \n",
       "4           58                     Yes                 5.51               Yes   \n",
       "\n",
       "   MentalHealthDaysOff  SalaryRange WorkLifeBalanceScore  TeamSize  \\\n",
       "0                    8      40K-60K                 8.82         6   \n",
       "1                    4     80K-100K                 2.80        45   \n",
       "2                    6     80K-100K                 7.28         7   \n",
       "3                    9      60K-80K                 1.31        11   \n",
       "4                    6         <40K                 1.17        18   \n",
       "\n",
       "  CareerGrowthScore  BurnoutRisk  \n",
       "0              9.20            0  \n",
       "1              8.46            1  \n",
       "2              7.96            1  \n",
       "3              8.90            0  \n",
       "4              8.88            1  \n",
       "\n",
       "[5 rows x 25 columns]"
      ]
     },
     "execution_count": 2,
     "metadata": {},
     "output_type": "execute_result"
    }
   ],
   "source": [
    "file = ('mental_health_workplace_survey.csv')\n",
    "df = pd.read_csv(file)\n",
    "df.head()"
   ]
  },
  {
   "cell_type": "markdown",
   "id": "0e7527fb-b775-4cbd-9a06-d3d566c6fab3",
   "metadata": {},
   "source": [
    "# <h1>Encoding categorical features<h1><h3>I used Label Encoding technique instead of One hot Encoding as no of columns after doing Label Encoding is 25 wheras 54 columns when i use One hot Encoding. So I used Label Encoding technique to reduce the dimension of dataframe.<h3>"
   ]
  },
  {
   "cell_type": "code",
   "execution_count": 3,
   "id": "8cae8547-b8f5-45f5-afbf-64d617cd8ce3",
   "metadata": {},
   "outputs": [],
   "source": [
    "categorical_cols = df.select_dtypes(include=['object', 'bool']).columns\n",
    "le = LabelEncoder()\n",
    "for col in categorical_cols:\n",
    "    df[col] = le.fit_transform(df[col].astype(str))"
   ]
  },
  {
   "cell_type": "markdown",
   "id": "cbc0a535-75ee-4a96-b2f9-135e2e4d06ea",
   "metadata": {},
   "source": [
    "# Feature Selection using correlation"
   ]
  },
  {
   "cell_type": "code",
   "execution_count": 4,
   "id": "05202887-b0a8-4a6c-9038-efab49f57c72",
   "metadata": {},
   "outputs": [],
   "source": [
    "corr = df.corr()['StressLevel'].sort_values(ascending=False)\n",
    "selected_features = corr[abs(corr) > 0.01].index.tolist()\n",
    "selected_features.remove('StressLevel')"
   ]
  },
  {
   "cell_type": "markdown",
   "id": "d52b1084-c0db-481e-a61d-7d366c0432e5",
   "metadata": {},
   "source": [
    "# Interaction Features"
   ]
  },
  {
   "cell_type": "code",
   "execution_count": 5,
   "id": "7414ca83-b9d8-442f-9a7f-60e6d0529c23",
   "metadata": {},
   "outputs": [],
   "source": [
    "df['Stress_WorkHours'] = df['StressLevel'] * df['WorkHoursPerWeek']\n",
    "df['Sleep_Stress'] = df['SleepHours'] / (df['StressLevel'] + 0.001) \n",
    "selected_features.extend(['Stress_WorkHours', 'Sleep_Stress'])"
   ]
  },
  {
   "cell_type": "markdown",
   "id": "2c97a4d6-b47a-4c13-8465-7fe3159c0448",
   "metadata": {},
   "source": [
    "# Train-test split"
   ]
  },
  {
   "cell_type": "code",
   "execution_count": 6,
   "id": "f8967cf9-1b73-4149-853a-ec37ca5fc2b3",
   "metadata": {},
   "outputs": [],
   "source": [
    "X = df[selected_features]\n",
    "y = df['StressLevel']"
   ]
  },
  {
   "cell_type": "code",
   "execution_count": 7,
   "id": "e734ea85-064f-4e7e-a42a-61085917589a",
   "metadata": {},
   "outputs": [],
   "source": [
    "X_train, X_test, y_train, y_test = train_test_split( X, y, test_size=0.2, random_state=5)"
   ]
  },
  {
   "cell_type": "markdown",
   "id": "7546b5d8-49fa-4bbc-87e8-6232b4517abe",
   "metadata": {},
   "source": [
    "# Standardization"
   ]
  },
  {
   "cell_type": "code",
   "execution_count": 8,
   "id": "11b66024-2107-4cc2-bbeb-72342c9bc9f3",
   "metadata": {},
   "outputs": [],
   "source": [
    "scaler = StandardScaler()\n",
    "X_train = scaler.fit_transform(X_train)\n",
    "X_test = scaler.transform(X_test)"
   ]
  },
  {
   "cell_type": "markdown",
   "id": "e89f7dee-6952-4fde-9653-2d8d00b1b496",
   "metadata": {},
   "source": [
    "# Models"
   ]
  },
  {
   "cell_type": "code",
   "execution_count": 9,
   "id": "74ef352a-5ee0-44ba-a816-6c88e07e228b",
   "metadata": {},
   "outputs": [
    {
     "name": "stdout",
     "output_type": "stream",
     "text": [
      "Training Linear model..\n",
      "Linear trained - MSE: 0.83, R²: 0.88\n",
      "Training Ridge model..\n",
      "Ridge trained - MSE: 0.83, R²: 0.88\n",
      "Training Lasso model..\n",
      "Lasso trained - MSE: 2.17, R²: 0.70\n"
     ]
    }
   ],
   "source": [
    "models = {\n",
    "    'Linear': LinearRegression(),\n",
    "    'Ridge': Ridge(),\n",
    "    'Lasso': Lasso()\n",
    "}\n",
    "\n",
    "for model_name, model in models.items():\n",
    "    print(f\"Training {model_name} model..\")\n",
    "    \n",
    "    model.fit(X_train, y_train)\n",
    "    y_pred = model.predict(X_test)\n",
    "    \n",
    "    mse = mean_squared_error(y_test, y_pred)\n",
    "    r2 = r2_score(y_test, y_pred)\n",
    "    print(f\"{model_name} trained - MSE: {mse:.2f}, R²: {r2:.2f}\")"
   ]
  },
  {
   "cell_type": "markdown",
   "id": "0de3412c-09a9-4bef-b2ca-b2e1af92f045",
   "metadata": {},
   "source": [
    "# <h1>Short Summary:<h1>\n",
    "<h3>The Linear model worked best, with an MSE of 0.83 and an R² of 0.88, and the Ridge model was just as good with the same scores. The Lasso model didn’t do as well, with an MSE of 2.17 and an R² of 0.70. The Linear and Ridge models are better because they handle the data’s patterns well without too much adjustment, while Lasso’s strong adjustment might have made it less accurate.<h3>"
   ]
  },
  {
   "cell_type": "code",
   "execution_count": null,
   "id": "b2a17d5a-35ac-4686-8230-a3963640c364",
   "metadata": {},
   "outputs": [],
   "source": []
  }
 ],
 "metadata": {
  "kernelspec": {
   "display_name": "Python 3 (ipykernel)",
   "language": "python",
   "name": "python3"
  },
  "language_info": {
   "codemirror_mode": {
    "name": "ipython",
    "version": 3
   },
   "file_extension": ".py",
   "mimetype": "text/x-python",
   "name": "python",
   "nbconvert_exporter": "python",
   "pygments_lexer": "ipython3",
   "version": "3.13.1"
  }
 },
 "nbformat": 4,
 "nbformat_minor": 5
}
